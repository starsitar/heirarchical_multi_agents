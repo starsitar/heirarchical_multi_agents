{
 "cells": [
  {
   "cell_type": "code",
   "execution_count": 1,
   "id": "b1cd543d-73e7-404b-b779-f03b15ac9398",
   "metadata": {},
   "outputs": [],
   "source": [
    "import getpass\n",
    "import os\n",
    "import numpy as np\n",
    "import os\n",
    "from dotenv import load_dotenv\n",
    "from crypto_tools import *\n",
    "from langchain import hub\n",
    "from langchain_openai import ChatOpenAI\n",
    "from langchain.prompts import PromptTemplate\n",
    "from langgraph.prebuilt import create_react_agent\n",
    "from langchain.agents import AgentExecutor, create_tool_calling_agent, Tool\n",
    "from typing_extensions import TypedDict\n",
    "\n"
   ]
  },
  {
   "cell_type": "code",
   "execution_count": 2,
   "id": "11be8a17-6805-4f3f-8567-868da549e810",
   "metadata": {},
   "outputs": [
    {
     "name": "stderr",
     "output_type": "stream",
     "text": [
      "USER_AGENT environment variable not set, consider setting it to identify your requests.\n"
     ]
    }
   ],
   "source": [
    "from typing import Annotated, List\n",
    "\n",
    "from langchain_community.document_loaders import WebBaseLoader\n",
    "from langchain_core.tools import tool\n",
    "\n",
    "\n",
    "\n",
    "@tool\n",
    "def scrape_webpages(urls: List[str]) -> str:\n",
    "    \"\"\"Use requests and bs4 to scrape the provided web pages for detailed information.\"\"\"\n",
    "    loader = WebBaseLoader(urls)\n",
    "    docs = loader.load()\n",
    "    return \"\\n\\n\".join(\n",
    "        [\n",
    "            f'\\n{doc.page_content}\\n'\n",
    "            for doc in docs\n",
    "        ]\n",
    "    )\n",
    "\n",
    "\n",
    "#Define Tools\n",
    "tools = [\n",
    "    Tool(name=\"Find_Similar_Plan\", func=find_similar_plan, description=\"Finds the most similar plan from common plans based on the user's query.\"),\n",
    "    Tool(name=\"Get_ETH_Balance\", func=get_eth_balance, description=\"Fetch the ETH balance of a wallet.\"),\n",
    "    Tool(name=\"Get_Token_Balance\", func=get_token_balance, description=\"Fetch the balance of a specific token.\"),\n",
    "    Tool(name=\"Lookup_Token_Address\", func=lookup_token_address, description=\"Look up the contract address for a given token name.\"),\n",
    "    Tool(name=\"Perform_Token_Swap\", func=perform_token_swap, description=\"Perform a token swap from one asset to another.\"),\n",
    "    Tool(name=\"Get_Transaction_Status\", func=get_transaction_status, description=\"Fetch the status of a blockchain transaction.\"),\n",
    "    Tool(name=\"Get_Recent_Transactions\", func=get_recent_transactions, description=\"Fetch recent transactions from the latest block.\"),\n",
    "    Tool(name=\"Estimate_Gas_Fee\", func=estimate_gas_fee, description=\"Estimate current gas fees on the network.\"),\n",
    "    Tool(name=\"Get_Best_Swap_Rate\", func=get_best_swap_rate, description=\"Fetch the best swap rate from DEX aggregators.\"),\n",
    "    Tool(name=\"Get_NFT_Collection\", func=get_nft_collection, description=\"Fetch a wallet's NFT collection.\"),\n",
    "    Tool(name=\"Get_NFT_Value\", func=get_nft_value, description=\"Get the estimated value of an NFT.\"),\n",
    "    Tool(name=\"Get_Token_Price\", func=get_token_price, description=\"Fetch the current price of a token from market data.\"),\n",
    "    Tool(name=\"Get_Historical_Prices\", func=get_historical_prices, description=\"Retrieve historical price data for a token.\"),\n",
    "    Tool(name=\"Get_Staking_Opportunities\", func=get_staking_opportunities, description=\"Fetch available staking opportunities for a token.\"),\n",
    "    Tool(name=\"Calculate_Staking_Yield\", func=calculate_staking_yield, description=\"Calculate the staking yield for a given token and amount.\"),\n",
    "    Tool(name=\"Create_Wallet\", func=create_wallet, description=\"Create a new blockchain wallet.\"),\n",
    "    Tool(name=\"Call_Smart_Contract_Function\", func=call_smart_contract_function, description=\"Call a function on a smart contract.\"),\n",
    "    Tool(name=\"Get_Contract_Data\", func=get_contract_data, description=\"Fetch data from a smart contract.\"),\n",
    "    Tool(name=\"Bridge_Tokens\", func=bridge_tokens, description=\"Bridge tokens across chains.\"),\n",
    "    Tool(name=\"Vote_on_Proposal\", func=vote_on_proposal, description=\"Vote on a governance proposal.\"),\n",
    "    Tool(name=\"Get_Governance_Tokens\", func=get_governance_tokens, description=\"Fetch governance tokens held by a wallet.\"),\n",
    "    Tool(name=\"Get_Tokens_From_Etherscan\", func=get_tokens_from_etherscan, description=\"Fetch the list of tokens in a wallet using Etherscan.\"),\n",
    "    Tool(name=\"Get_NFTs_From_Etherscan\", func=get_nfts_from_etherscan, description=\"Fetch the list of NFTs in a wallet using Etherscan.\"),\n",
    "]\n"
   ]
  },
  {
   "cell_type": "code",
   "execution_count": 3,
   "id": "6cb797c7-d91c-40c3-ae60-bf25b3345e19",
   "metadata": {},
   "outputs": [
    {
     "data": {
      "text/plain": [
       "Tool(name='Find_Similar_Plan', description=\"Finds the most similar plan from common plans based on the user's query.\", func=<function find_similar_plan at 0x74bf9170a340>)"
      ]
     },
     "execution_count": 3,
     "metadata": {},
     "output_type": "execute_result"
    }
   ],
   "source": [
    "tools[0]"
   ]
  },
  {
   "cell_type": "code",
   "execution_count": 4,
   "id": "f3a16a7d-0721-41c2-a65b-4a0b2f3ccf33",
   "metadata": {},
   "outputs": [],
   "source": [
    "from langchain_core.messages import HumanMessage\n",
    "\n",
    "\n",
    "def agent_node(state, agent, name):\n",
    "    result = agent.invoke(state)\n",
    "    return {\n",
    "        \"messages\": [HumanMessage(content=result[\"messages\"][-1].content, name=name)]\n",
    "    }"
   ]
  },
  {
   "cell_type": "code",
   "execution_count": 5,
   "id": "fed08c8d-6273-43ca-a886-411cf3f6b7da",
   "metadata": {},
   "outputs": [],
   "source": [
    "from langchain_core.prompts import ChatPromptTemplate, MessagesPlaceholder\n",
    "from langchain_openai import ChatOpenAI\n",
    "from pydantic import BaseModel\n",
    "from typing import Literal\n",
    "\n",
    "members = [\"Planner\", \"Executer\"]\n",
    "system_prompt = (\n",
    "    \"You are a supervisor tasked with managing a conversation between the\"\n",
    "    \" following workers:  {members}. Given the following user request,\"\n",
    "    \" respond with the worker to act next. Each worker will perform a\"\n",
    "    \" task and respond with their results and status. When finished,\"\n",
    "    \" respond with FINISH.\"\n",
    ")\n",
    "# Our team supervisor is an LLM node. It just picks the next agent to process\n",
    "# and decides when the work is completed\n",
    "options = [\"FINISH\"] + members\n",
    "\n",
    "\n",
    "class routeResponse(BaseModel):\n",
    "    next: Literal[*options]\n",
    "\n",
    "\n",
    "prompt = ChatPromptTemplate.from_messages(\n",
    "    [\n",
    "        (\"system\", system_prompt),\n",
    "        MessagesPlaceholder(variable_name=\"messages\"),\n",
    "        (\n",
    "            \"system\",\n",
    "            \"Given the conversation above, who should act next?\"\n",
    "            \" Or should we FINISH? Select one of: {options}\",\n",
    "        ),\n",
    "    ]\n",
    ").partial(options=str(options), members=\", \".join(members))\n",
    "\n",
    "\n",
    "llm = ChatOpenAI(model=\"gpt-4o\")\n",
    "\n",
    "\n",
    "def supervisor_agent(state):\n",
    "    supervisor_chain = prompt | llm.with_structured_output(routeResponse)\n",
    "    return supervisor_chain.invoke(state)"
   ]
  },
  {
   "cell_type": "code",
   "execution_count": 6,
   "id": "f3689546-f711-4317-a73b-467bdc0fc8fe",
   "metadata": {},
   "outputs": [
    {
     "data": {
      "text/plain": [
       "<langgraph.graph.state.StateGraph at 0x74bf8b837750>"
      ]
     },
     "execution_count": 6,
     "metadata": {},
     "output_type": "execute_result"
    }
   ],
   "source": [
    "import functools\n",
    "import operator\n",
    "from typing import Sequence\n",
    "from typing_extensions import TypedDict\n",
    "\n",
    "from langchain_core.messages import BaseMessage\n",
    "\n",
    "from langgraph.graph import END, StateGraph, START\n",
    "from langgraph.prebuilt import create_react_agent\n",
    "\n",
    "\n",
    "# The agent state is the input to each node in the graph\n",
    "class AgentState(TypedDict):\n",
    "    # The annotation tells the graph that new messages will always\n",
    "    # be added to the current states\n",
    "    messages: Annotated[Sequence[BaseMessage], operator.add]\n",
    "    # The 'next' field indicates where to route to next\n",
    "    next: str\n",
    "\n",
    "\n",
    "planner_agent = create_react_agent(llm, tools=tools)\n",
    "planner_node = functools.partial(agent_node, agent=planner_agent, name=\"Planner\")\n",
    "\n",
    "# NOTE: THIS PERFORMS ARBITRARY CODE EXECUTION. PROCEED WITH CAUTION\n",
    "executer_agent = create_react_agent(llm, tools=tools)\n",
    "executer_node = functools.partial(agent_node, agent=executer_agent, name=\"Executer\")\n",
    "\n",
    "workflow = StateGraph(AgentState)\n",
    "workflow.add_node(\"Planner\", planner_node)\n",
    "workflow.add_node(\"Executer\", executer_node)\n",
    "workflow.add_node(\"supervisor\", supervisor_agent)"
   ]
  },
  {
   "cell_type": "code",
   "execution_count": 7,
   "id": "eb62f02b-d6d2-40b3-9578-c5830c42ab7c",
   "metadata": {},
   "outputs": [],
   "source": [
    "for member in members:\n",
    "    # We want our workers to ALWAYS \"report back\" to the supervisor when done\n",
    "    workflow.add_edge(member, \"supervisor\")\n",
    "# The supervisor populates the \"next\" field in the graph state\n",
    "# which routes to a node or finishes\n",
    "conditional_map = {k: k for k in members}\n",
    "conditional_map[\"FINISH\"] = END\n",
    "workflow.add_conditional_edges(\"supervisor\", lambda x: x[\"next\"], conditional_map)\n",
    "# Finally, add entrypoint\n",
    "workflow.add_edge(START, \"supervisor\")\n",
    "\n",
    "graph = workflow.compile()"
   ]
  },
  {
   "cell_type": "code",
   "execution_count": 9,
   "id": "72bf758d-94f4-40e8-95b8-8e3929791206",
   "metadata": {},
   "outputs": [
    {
     "name": "stdout",
     "output_type": "stream",
     "text": [
      "{'supervisor': {'next': 'Planner'}}\n",
      "----\n",
      "{'Planner': {'messages': [HumanMessage(content='The wallet at address `0x4838B106FCe9647Bdf1E7877BF73cE8B0BAD5f97` has the following balances:\\n\\n### ETH Balance\\n- **ETH:** 14.3838 ETH\\n\\n### Token Balances\\n- **AITWTZ:** 0.0000\\n- **USA:** 500.0000\\n- **USDT:** 400.0000\\n- **BTC:** 200.0000\\n- **ETH:** 1.8724\\n- **OCC:** 658.0000\\n- **RealMcCoy:** 0.0000\\n- **USDT:** 3,000,000.0000\\n- **ETH:** 0.0373\\n- **XAEA51:** 0.0000\\n- **BTAI:** 0.0000\\n- **Visit https://get-usdc.com to claim rewards:** 1049.0000\\n- **ETH:** 1.0254\\n- **ETH:** 0.8556\\n- **ETH:** 2.5369\\n- **ETH:** 1.1840\\n- **ETH:** 0.9629\\n- **ETH:** 0.9629\\n- **ETH:** 1.3223\\n- **Visit https://usdswap.org to claim rewards:** 3999.9900\\n- **ЕTH:** 0.0442\\n- **ΕTH:** 0.1155\\n- **MAIL:** 48,999,999.0200\\n- **Visit https://usd-coin.net to claim rewards:** 3999.9900\\n- **SH三P三:** 38,769,610,461,393.6484\\n- **HQG:** 1.7283\\n- **ETH:** 200.0000\\n- **NPQ:** 25.3643\\n- **$ sUSD:** 826.1500\\n- **SCULP:** 50.0000\\n- **Visit https://aeth.trade to claim rewards:** 1.4000\\n- **TALL:** 250.0000\\n- **GAZE:** 19,400,000.0000\\n- **Visit https://apy-eth.net to claim rewards:** 1.4000\\n- **COOKIE:** 1000.0000\\n- **Visit aeth.network to claim rewards:** 1.4000\\n- **BAT:** 1.4609\\n- **MANA:** 0.8435\\n- **ETH:** 450.0000\\n- **USDT:** 300.0000\\n- **USDT:** 15,865.0000\\n- **XDEFI:** 0.0000\\n- **Visit LqETH.org to claim rewards:** 1.7000\\n- **$VeN:** 0.0000\\n- **TONCrypto.io:** 193.0000\\n- **EVOAI:** 4529.6163\\n- **KUTTA:** 676.2967\\n- **Visit StakeEther.net claim rewards:** 1.7000\\n- **ETH:** 6.8277\\n- **ЕТН:** 6.7112\\n- **ЕТН:** 0.1165\\n- **CTDT:** 50,000,000.0000\\n- **USDT:** 300.0000\\n- **$ Visit ETH200k.com to claim $200k:** 200,000.0000\\n- **ACX [via www.across.cash]:** 4039.0000\\n- **EZK:** 10.0000\\n- **REZ:** 15,000.0000\\n- **APU:** 1.0000\\n- **CRAMER:** 632.0000\\n- **COTIN:** 4350.0000\\n- **Groyper:** 0.7182\\n- **stETH:** 0.0000\\n- **ICHC:** 50.0000\\n- **TMAGA:** 0.0000\\n- **USDC:** 3.6039\\n- **Claim: https://aerodrome.supply:** 1594.0000\\n- **WAT:** 438.0000\\n- **Fyde Points - www.fyde.cc:** 265,237.0000\\n- **FEARNOT:** 10.8448\\n- **HLT:** 225.0000\\n- **FEARNOT Giveaway Ticket | fearnotcoin.com:** 100,000,000.0000\\n- **USDT:** 48,500.0000\\n- **IPT:** 400.0000\\n- **USDC:** 100.0000\\n- **RX:** 100.0000\\n- **RSD:** 2.5001\\n- **claim $foxy at (me-qr.com/yqdprsom):** 2985.0000\\n- **WETH:** 0.0000\\n- **PEPE:** 1,078,409.4900\\n- **USD0 [www.usual.finance]:** 1670.0000\\n- **ERC:** 4000.0000\\n- **ERC:** 28,000.0000\\n\\nThis wallet holds a significant variety of tokens and rewards claims.', additional_kwargs={}, response_metadata={}, name='Planner')]}}\n",
      "----\n",
      "{'supervisor': {'next': 'FINISH'}}\n",
      "----\n"
     ]
    }
   ],
   "source": [
    "for s in graph.stream(\n",
    "    {\n",
    "        \"messages\": [\n",
    "            HumanMessage(content=\"what is the wallet balance at 0x4838B106FCe9647Bdf1E7877BF73cE8B0BAD5f97\")\n",
    "        ]\n",
    "    }\n",
    "):\n",
    "    if \"__end__\" not in s:\n",
    "        print(s)\n",
    "        print(\"----\")"
   ]
  },
  {
   "cell_type": "code",
   "execution_count": null,
   "id": "34369b60-1109-4fd2-85b5-a2926359184f",
   "metadata": {},
   "outputs": [],
   "source": []
  }
 ],
 "metadata": {
  "kernelspec": {
   "display_name": "Python 3 (ipykernel)",
   "language": "python",
   "name": "python3"
  },
  "language_info": {
   "codemirror_mode": {
    "name": "ipython",
    "version": 3
   },
   "file_extension": ".py",
   "mimetype": "text/x-python",
   "name": "python",
   "nbconvert_exporter": "python",
   "pygments_lexer": "ipython3",
   "version": "3.11.9"
  }
 },
 "nbformat": 4,
 "nbformat_minor": 5
}
